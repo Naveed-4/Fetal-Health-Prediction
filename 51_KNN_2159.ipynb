{
  "nbformat": 4,
  "nbformat_minor": 0,
  "metadata": {
    "colab": {
      "provenance": [],
      "collapsed_sections": [
        "BriV4C9YUDZO",
        "N_mb7UtpVMU7",
        "mT_0N0NdXVet",
        "vdvIuKkGXq5i",
        "R0Wu5-BSZU2a"
      ]
    },
    "kernelspec": {
      "name": "python3",
      "display_name": "Python 3"
    },
    "language_info": {
      "name": "python"
    }
  },
  "cells": [
    {
      "cell_type": "markdown",
      "source": [
        "# KNeighborsClassifier"
      ],
      "metadata": {
        "id": "IZ2VIZJh9NtY"
      }
    },
    {
      "cell_type": "markdown",
      "source": [
        "## Upload dataset"
      ],
      "metadata": {
        "id": "JlYhPOFTOheH"
      }
    },
    {
      "cell_type": "code",
      "source": [
        "from google.colab import files\n",
        "\n",
        "uploaded = files.upload()\n",
        "\n",
        "for fn in uploaded.keys():\n",
        "  print('User uploaded file \"{name}\" with length {length} bytes'.format(\n",
        "      name=fn, length=len(uploaded[fn])))"
      ],
      "metadata": {
        "colab": {
          "base_uri": "https://localhost:8080/",
          "height": 91
        },
        "id": "31Sb23s9OoPN",
        "outputId": "9724ce2e-8510-4d04-acae-cd440d71f27b"
      },
      "execution_count": null,
      "outputs": [
        {
          "output_type": "display_data",
          "data": {
            "text/plain": [
              "<IPython.core.display.HTML object>"
            ],
            "text/html": [
              "\n",
              "     <input type=\"file\" id=\"files-6ce21376-4c36-4e21-853f-f08910e2e14c\" name=\"files[]\" multiple disabled\n",
              "        style=\"border:none\" />\n",
              "     <output id=\"result-6ce21376-4c36-4e21-853f-f08910e2e14c\">\n",
              "      Upload widget is only available when the cell has been executed in the\n",
              "      current browser session. Please rerun this cell to enable.\n",
              "      </output>\n",
              "      <script>// Copyright 2017 Google LLC\n",
              "//\n",
              "// Licensed under the Apache License, Version 2.0 (the \"License\");\n",
              "// you may not use this file except in compliance with the License.\n",
              "// You may obtain a copy of the License at\n",
              "//\n",
              "//      http://www.apache.org/licenses/LICENSE-2.0\n",
              "//\n",
              "// Unless required by applicable law or agreed to in writing, software\n",
              "// distributed under the License is distributed on an \"AS IS\" BASIS,\n",
              "// WITHOUT WARRANTIES OR CONDITIONS OF ANY KIND, either express or implied.\n",
              "// See the License for the specific language governing permissions and\n",
              "// limitations under the License.\n",
              "\n",
              "/**\n",
              " * @fileoverview Helpers for google.colab Python module.\n",
              " */\n",
              "(function(scope) {\n",
              "function span(text, styleAttributes = {}) {\n",
              "  const element = document.createElement('span');\n",
              "  element.textContent = text;\n",
              "  for (const key of Object.keys(styleAttributes)) {\n",
              "    element.style[key] = styleAttributes[key];\n",
              "  }\n",
              "  return element;\n",
              "}\n",
              "\n",
              "// Max number of bytes which will be uploaded at a time.\n",
              "const MAX_PAYLOAD_SIZE = 100 * 1024;\n",
              "\n",
              "function _uploadFiles(inputId, outputId) {\n",
              "  const steps = uploadFilesStep(inputId, outputId);\n",
              "  const outputElement = document.getElementById(outputId);\n",
              "  // Cache steps on the outputElement to make it available for the next call\n",
              "  // to uploadFilesContinue from Python.\n",
              "  outputElement.steps = steps;\n",
              "\n",
              "  return _uploadFilesContinue(outputId);\n",
              "}\n",
              "\n",
              "// This is roughly an async generator (not supported in the browser yet),\n",
              "// where there are multiple asynchronous steps and the Python side is going\n",
              "// to poll for completion of each step.\n",
              "// This uses a Promise to block the python side on completion of each step,\n",
              "// then passes the result of the previous step as the input to the next step.\n",
              "function _uploadFilesContinue(outputId) {\n",
              "  const outputElement = document.getElementById(outputId);\n",
              "  const steps = outputElement.steps;\n",
              "\n",
              "  const next = steps.next(outputElement.lastPromiseValue);\n",
              "  return Promise.resolve(next.value.promise).then((value) => {\n",
              "    // Cache the last promise value to make it available to the next\n",
              "    // step of the generator.\n",
              "    outputElement.lastPromiseValue = value;\n",
              "    return next.value.response;\n",
              "  });\n",
              "}\n",
              "\n",
              "/**\n",
              " * Generator function which is called between each async step of the upload\n",
              " * process.\n",
              " * @param {string} inputId Element ID of the input file picker element.\n",
              " * @param {string} outputId Element ID of the output display.\n",
              " * @return {!Iterable<!Object>} Iterable of next steps.\n",
              " */\n",
              "function* uploadFilesStep(inputId, outputId) {\n",
              "  const inputElement = document.getElementById(inputId);\n",
              "  inputElement.disabled = false;\n",
              "\n",
              "  const outputElement = document.getElementById(outputId);\n",
              "  outputElement.innerHTML = '';\n",
              "\n",
              "  const pickedPromise = new Promise((resolve) => {\n",
              "    inputElement.addEventListener('change', (e) => {\n",
              "      resolve(e.target.files);\n",
              "    });\n",
              "  });\n",
              "\n",
              "  const cancel = document.createElement('button');\n",
              "  inputElement.parentElement.appendChild(cancel);\n",
              "  cancel.textContent = 'Cancel upload';\n",
              "  const cancelPromise = new Promise((resolve) => {\n",
              "    cancel.onclick = () => {\n",
              "      resolve(null);\n",
              "    };\n",
              "  });\n",
              "\n",
              "  // Wait for the user to pick the files.\n",
              "  const files = yield {\n",
              "    promise: Promise.race([pickedPromise, cancelPromise]),\n",
              "    response: {\n",
              "      action: 'starting',\n",
              "    }\n",
              "  };\n",
              "\n",
              "  cancel.remove();\n",
              "\n",
              "  // Disable the input element since further picks are not allowed.\n",
              "  inputElement.disabled = true;\n",
              "\n",
              "  if (!files) {\n",
              "    return {\n",
              "      response: {\n",
              "        action: 'complete',\n",
              "      }\n",
              "    };\n",
              "  }\n",
              "\n",
              "  for (const file of files) {\n",
              "    const li = document.createElement('li');\n",
              "    li.append(span(file.name, {fontWeight: 'bold'}));\n",
              "    li.append(span(\n",
              "        `(${file.type || 'n/a'}) - ${file.size} bytes, ` +\n",
              "        `last modified: ${\n",
              "            file.lastModifiedDate ? file.lastModifiedDate.toLocaleDateString() :\n",
              "                                    'n/a'} - `));\n",
              "    const percent = span('0% done');\n",
              "    li.appendChild(percent);\n",
              "\n",
              "    outputElement.appendChild(li);\n",
              "\n",
              "    const fileDataPromise = new Promise((resolve) => {\n",
              "      const reader = new FileReader();\n",
              "      reader.onload = (e) => {\n",
              "        resolve(e.target.result);\n",
              "      };\n",
              "      reader.readAsArrayBuffer(file);\n",
              "    });\n",
              "    // Wait for the data to be ready.\n",
              "    let fileData = yield {\n",
              "      promise: fileDataPromise,\n",
              "      response: {\n",
              "        action: 'continue',\n",
              "      }\n",
              "    };\n",
              "\n",
              "    // Use a chunked sending to avoid message size limits. See b/62115660.\n",
              "    let position = 0;\n",
              "    do {\n",
              "      const length = Math.min(fileData.byteLength - position, MAX_PAYLOAD_SIZE);\n",
              "      const chunk = new Uint8Array(fileData, position, length);\n",
              "      position += length;\n",
              "\n",
              "      const base64 = btoa(String.fromCharCode.apply(null, chunk));\n",
              "      yield {\n",
              "        response: {\n",
              "          action: 'append',\n",
              "          file: file.name,\n",
              "          data: base64,\n",
              "        },\n",
              "      };\n",
              "\n",
              "      let percentDone = fileData.byteLength === 0 ?\n",
              "          100 :\n",
              "          Math.round((position / fileData.byteLength) * 100);\n",
              "      percent.textContent = `${percentDone}% done`;\n",
              "\n",
              "    } while (position < fileData.byteLength);\n",
              "  }\n",
              "\n",
              "  // All done.\n",
              "  yield {\n",
              "    response: {\n",
              "      action: 'complete',\n",
              "    }\n",
              "  };\n",
              "}\n",
              "\n",
              "scope.google = scope.google || {};\n",
              "scope.google.colab = scope.google.colab || {};\n",
              "scope.google.colab._files = {\n",
              "  _uploadFiles,\n",
              "  _uploadFilesContinue,\n",
              "};\n",
              "})(self);\n",
              "</script> "
            ]
          },
          "metadata": {}
        },
        {
          "output_type": "stream",
          "name": "stdout",
          "text": [
            "Saving fetal_health.csv to fetal_health.csv\n",
            "User uploaded file \"fetal_health.csv\" with length 228715 bytes\n"
          ]
        }
      ]
    },
    {
      "cell_type": "markdown",
      "source": [
        "## Importing Libraries"
      ],
      "metadata": {
        "id": "QODlYC_POxQ3"
      }
    },
    {
      "cell_type": "code",
      "source": [
        "import numpy as np\n",
        "import pandas as pd\n",
        "import matplotlib.pyplot as plt"
      ],
      "metadata": {
        "id": "qNBEivPtO7UT"
      },
      "execution_count": null,
      "outputs": []
    },
    {
      "cell_type": "markdown",
      "source": [
        "## Loading dataset"
      ],
      "metadata": {
        "id": "mLWz-nQFPFpo"
      }
    },
    {
      "cell_type": "code",
      "source": [
        "ds=pd.read_csv(\"fetal_health.csv\")\n",
        "print(\"Shape of dataset : \",ds.shape)\n",
        "print(\"Dataset :-\\n\",ds.head())"
      ],
      "metadata": {
        "id": "cE1fVD8tPH9s",
        "colab": {
          "base_uri": "https://localhost:8080/"
        },
        "outputId": "70794bfe-dfc4-487a-87dc-7c55ffa4ad09"
      },
      "execution_count": null,
      "outputs": [
        {
          "output_type": "stream",
          "name": "stdout",
          "text": [
            "Shape of dataset :  (2126, 22)\n",
            "Dataset :-\n",
            "    baseline value  accelerations  fetal_movement  uterine_contractions  \\\n",
            "0           120.0          0.000             0.0                 0.000   \n",
            "1           132.0          0.006             0.0                 0.006   \n",
            "2           133.0          0.003             0.0                 0.008   \n",
            "3           134.0          0.003             0.0                 0.008   \n",
            "4           132.0          0.007             0.0                 0.008   \n",
            "\n",
            "   light_decelerations  severe_decelerations  prolongued_decelerations  \\\n",
            "0                0.000                   0.0                       0.0   \n",
            "1                0.003                   0.0                       0.0   \n",
            "2                0.003                   0.0                       0.0   \n",
            "3                0.003                   0.0                       0.0   \n",
            "4                0.000                   0.0                       0.0   \n",
            "\n",
            "   abnormal_short_term_variability  mean_value_of_short_term_variability  \\\n",
            "0                             73.0                                   0.5   \n",
            "1                             17.0                                   2.1   \n",
            "2                             16.0                                   2.1   \n",
            "3                             16.0                                   2.4   \n",
            "4                             16.0                                   2.4   \n",
            "\n",
            "   percentage_of_time_with_abnormal_long_term_variability  ...  histogram_min  \\\n",
            "0                                               43.0       ...           62.0   \n",
            "1                                                0.0       ...           68.0   \n",
            "2                                                0.0       ...           68.0   \n",
            "3                                                0.0       ...           53.0   \n",
            "4                                                0.0       ...           53.0   \n",
            "\n",
            "   histogram_max  histogram_number_of_peaks  histogram_number_of_zeroes  \\\n",
            "0          126.0                        2.0                         0.0   \n",
            "1          198.0                        6.0                         1.0   \n",
            "2          198.0                        5.0                         1.0   \n",
            "3          170.0                       11.0                         0.0   \n",
            "4          170.0                        9.0                         0.0   \n",
            "\n",
            "   histogram_mode  histogram_mean  histogram_median  histogram_variance  \\\n",
            "0           120.0           137.0             121.0                73.0   \n",
            "1           141.0           136.0             140.0                12.0   \n",
            "2           141.0           135.0             138.0                13.0   \n",
            "3           137.0           134.0             137.0                13.0   \n",
            "4           137.0           136.0             138.0                11.0   \n",
            "\n",
            "   histogram_tendency  fetal_health  \n",
            "0                 1.0           2.0  \n",
            "1                 0.0           1.0  \n",
            "2                 0.0           1.0  \n",
            "3                 1.0           1.0  \n",
            "4                 1.0           1.0  \n",
            "\n",
            "[5 rows x 22 columns]\n"
          ]
        }
      ]
    },
    {
      "cell_type": "markdown",
      "source": [
        "## Count of each class in Target "
      ],
      "metadata": {
        "id": "22uq3AcHmCsu"
      }
    },
    {
      "cell_type": "code",
      "source": [
        "count=ds['fetal_health'].value_counts()\n",
        "print(\"Count of each class in Target :-\\n\",count)"
      ],
      "metadata": {
        "colab": {
          "base_uri": "https://localhost:8080/"
        },
        "id": "oFsORFxmmPPa",
        "outputId": "18e6b636-6962-4209-8542-4b7f1319f2e1"
      },
      "execution_count": null,
      "outputs": [
        {
          "output_type": "stream",
          "name": "stdout",
          "text": [
            "Count of each class in Target :-\n",
            " 1.0    1655\n",
            "2.0     295\n",
            "3.0     176\n",
            "Name: fetal_health, dtype: int64\n"
          ]
        }
      ]
    },
    {
      "cell_type": "markdown",
      "source": [
        "## Assigning X and y values"
      ],
      "metadata": {
        "id": "4PCi3UPvQx53"
      }
    },
    {
      "cell_type": "code",
      "source": [
        "X=ds.iloc[:,:-1].values\n",
        "print(\"X Shape is : \",X.shape)\n",
        "print(\"X is :-\\n\",X);"
      ],
      "metadata": {
        "id": "AT4qUYqMQ6Yq",
        "colab": {
          "base_uri": "https://localhost:8080/"
        },
        "outputId": "7bef1704-e024-4a13-e920-521cb78eba8d"
      },
      "execution_count": null,
      "outputs": [
        {
          "output_type": "stream",
          "name": "stdout",
          "text": [
            "X Shape is :  (2126, 21)\n",
            "X is :-\n",
            " [[1.20e+02 0.00e+00 0.00e+00 ... 1.21e+02 7.30e+01 1.00e+00]\n",
            " [1.32e+02 6.00e-03 0.00e+00 ... 1.40e+02 1.20e+01 0.00e+00]\n",
            " [1.33e+02 3.00e-03 0.00e+00 ... 1.38e+02 1.30e+01 0.00e+00]\n",
            " ...\n",
            " [1.40e+02 1.00e-03 0.00e+00 ... 1.52e+02 4.00e+00 1.00e+00]\n",
            " [1.40e+02 1.00e-03 0.00e+00 ... 1.51e+02 4.00e+00 1.00e+00]\n",
            " [1.42e+02 2.00e-03 2.00e-03 ... 1.45e+02 1.00e+00 0.00e+00]]\n"
          ]
        }
      ]
    },
    {
      "cell_type": "code",
      "source": [
        "y=ds.iloc[:,-1].values\n",
        "print(\"y Shape is : \",y.shape)\n",
        "print(\"y is :-\\n\",y)"
      ],
      "metadata": {
        "id": "q9UY9mgiR35u",
        "colab": {
          "base_uri": "https://localhost:8080/"
        },
        "outputId": "de9bf753-6ca5-460f-e759-7756fd437c49"
      },
      "execution_count": null,
      "outputs": [
        {
          "output_type": "stream",
          "name": "stdout",
          "text": [
            "y Shape is :  (2126,)\n",
            "y is :-\n",
            " [2. 1. 1. ... 2. 2. 1.]\n"
          ]
        }
      ]
    },
    {
      "cell_type": "markdown",
      "source": [
        "## Splitting the dataset into the Training set and Test set"
      ],
      "metadata": {
        "id": "vQKB9S4dRdyE"
      }
    },
    {
      "cell_type": "code",
      "source": [
        "from sklearn.model_selection import train_test_split\n",
        "X_train, X_test, y_train, y_test = train_test_split(X, y, test_size = 0.3, random_state = 50)"
      ],
      "metadata": {
        "id": "aJRPaBGwRjDY"
      },
      "execution_count": null,
      "outputs": []
    },
    {
      "cell_type": "code",
      "source": [
        "print(\"Shape of X_train is : \",X_train.shape)\n",
        "print(\"X_train is :-\\n\",X_train)"
      ],
      "metadata": {
        "id": "7s96FOCoRtrY",
        "colab": {
          "base_uri": "https://localhost:8080/"
        },
        "outputId": "2de3f874-57fe-46b5-e4fa-6d1d2c871279"
      },
      "execution_count": null,
      "outputs": [
        {
          "output_type": "stream",
          "name": "stdout",
          "text": [
            "Shape of X_train is :  (1488, 21)\n",
            "X_train is :-\n",
            " [[1.27e+02 7.00e-03 0.00e+00 ... 1.30e+02 4.50e+01 0.00e+00]\n",
            " [1.43e+02 0.00e+00 2.10e-02 ... 1.47e+02 1.00e+00 0.00e+00]\n",
            " [1.20e+02 8.00e-03 1.03e-01 ... 1.26e+02 2.50e+01 0.00e+00]\n",
            " ...\n",
            " [1.33e+02 0.00e+00 1.00e-03 ... 1.32e+02 2.10e+01 1.00e+00]\n",
            " [1.30e+02 6.00e-03 0.00e+00 ... 1.37e+02 4.00e+00 0.00e+00]\n",
            " [1.31e+02 7.00e-03 4.00e-03 ... 1.43e+02 2.50e+01 0.00e+00]]\n"
          ]
        }
      ]
    },
    {
      "cell_type": "code",
      "source": [
        "print(\"Shape of y_train is : \",y_train.shape)\n",
        "print(\"y_train is :-\\n\",y_train)"
      ],
      "metadata": {
        "id": "qgA4DeQXSG-e",
        "colab": {
          "base_uri": "https://localhost:8080/"
        },
        "outputId": "e0a95bc7-7633-4639-b76f-d2ada175dbea"
      },
      "execution_count": null,
      "outputs": [
        {
          "output_type": "stream",
          "name": "stdout",
          "text": [
            "Shape of y_train is :  (1488,)\n",
            "y_train is :-\n",
            " [1. 2. 1. ... 1. 1. 1.]\n"
          ]
        }
      ]
    },
    {
      "cell_type": "code",
      "source": [
        "print(\"Shape of X_test is : \",X_test.shape)\n",
        "print(\"X_test is :-\\n\",X_test)"
      ],
      "metadata": {
        "id": "R8dxkFZ7SHyh",
        "colab": {
          "base_uri": "https://localhost:8080/"
        },
        "outputId": "8ec519df-1a73-4069-fcd8-61dca8dab042"
      },
      "execution_count": null,
      "outputs": [
        {
          "output_type": "stream",
          "name": "stdout",
          "text": [
            "Shape of X_test is :  (638, 21)\n",
            "X_test is :-\n",
            " [[1.29e+02 2.00e-03 1.30e-02 ... 1.34e+02 4.00e+00 1.00e+00]\n",
            " [1.34e+02 9.00e-03 1.00e-03 ... 1.51e+02 4.20e+01 0.00e+00]\n",
            " [1.30e+02 2.00e-03 1.00e-03 ... 1.36e+02 1.50e+01 0.00e+00]\n",
            " ...\n",
            " [1.37e+02 0.00e+00 4.00e-03 ... 1.39e+02 1.00e+00 0.00e+00]\n",
            " [1.27e+02 6.00e-03 0.00e+00 ... 1.29e+02 4.10e+01 0.00e+00]\n",
            " [1.25e+02 4.00e-03 1.00e-03 ... 1.19e+02 3.00e+01 0.00e+00]]\n"
          ]
        }
      ]
    },
    {
      "cell_type": "code",
      "source": [
        "print(\"Shape of y_test is : \",y_test.shape)\n",
        "print(\"y_test is :-\\n\",y_test)"
      ],
      "metadata": {
        "id": "R-s7twfDSIdP",
        "colab": {
          "base_uri": "https://localhost:8080/"
        },
        "outputId": "888c9975-99fb-4574-c2fa-aa2fc645e3b3"
      },
      "execution_count": null,
      "outputs": [
        {
          "output_type": "stream",
          "name": "stdout",
          "text": [
            "Shape of y_test is :  (638,)\n",
            "y_test is :-\n",
            " [1. 1. 1. 2. 1. 1. 1. 1. 2. 3. 3. 1. 1. 2. 1. 2. 3. 1. 1. 3. 1. 1. 1. 1.\n",
            " 1. 1. 1. 1. 1. 1. 1. 1. 1. 1. 1. 1. 1. 1. 1. 1. 1. 1. 1. 1. 1. 3. 3. 1.\n",
            " 1. 2. 1. 1. 1. 1. 1. 1. 1. 1. 1. 1. 1. 1. 1. 1. 1. 1. 2. 2. 2. 1. 1. 1.\n",
            " 2. 1. 2. 1. 3. 3. 2. 2. 1. 1. 1. 3. 1. 1. 1. 1. 1. 1. 1. 1. 1. 1. 1. 3.\n",
            " 1. 3. 1. 1. 1. 1. 1. 1. 1. 1. 1. 1. 1. 1. 1. 1. 1. 1. 1. 3. 1. 1. 1. 1.\n",
            " 2. 1. 1. 1. 1. 3. 1. 1. 2. 1. 1. 1. 1. 2. 1. 1. 1. 1. 1. 1. 1. 1. 1. 1.\n",
            " 1. 1. 3. 1. 1. 1. 1. 1. 1. 3. 1. 1. 1. 1. 3. 1. 1. 1. 1. 1. 2. 1. 1. 1.\n",
            " 1. 2. 2. 1. 1. 1. 1. 1. 1. 2. 1. 3. 1. 1. 1. 1. 1. 2. 1. 2. 1. 3. 1. 1.\n",
            " 1. 1. 1. 1. 1. 1. 2. 1. 1. 1. 1. 1. 1. 1. 2. 1. 1. 2. 1. 1. 1. 1. 1. 1.\n",
            " 1. 1. 1. 1. 1. 1. 1. 1. 2. 1. 1. 1. 1. 2. 3. 1. 1. 2. 1. 2. 1. 2. 1. 2.\n",
            " 1. 1. 1. 1. 1. 1. 1. 1. 1. 2. 1. 1. 1. 1. 1. 1. 1. 1. 2. 1. 1. 2. 1. 3.\n",
            " 3. 1. 1. 2. 3. 1. 3. 3. 1. 1. 1. 1. 1. 1. 1. 1. 1. 1. 1. 1. 1. 1. 2. 2.\n",
            " 2. 1. 1. 1. 1. 1. 1. 1. 3. 1. 1. 3. 1. 1. 1. 1. 2. 2. 1. 1. 1. 1. 1. 1.\n",
            " 1. 1. 1. 1. 1. 1. 3. 1. 1. 1. 1. 3. 1. 1. 2. 1. 2. 1. 1. 3. 1. 2. 1. 1.\n",
            " 1. 1. 1. 1. 1. 1. 2. 1. 1. 1. 3. 1. 1. 3. 3. 2. 2. 1. 2. 1. 1. 1. 1. 1.\n",
            " 1. 1. 1. 1. 1. 1. 3. 1. 3. 1. 1. 1. 1. 1. 3. 2. 1. 1. 1. 1. 1. 1. 3. 1.\n",
            " 1. 1. 1. 1. 2. 2. 1. 1. 2. 1. 3. 1. 1. 1. 2. 1. 1. 1. 1. 1. 1. 1. 1. 1.\n",
            " 2. 1. 1. 1. 1. 1. 1. 1. 1. 1. 2. 1. 3. 2. 1. 2. 1. 1. 1. 1. 1. 2. 1. 1.\n",
            " 1. 3. 1. 1. 1. 1. 1. 1. 1. 1. 2. 1. 1. 1. 1. 1. 1. 1. 1. 1. 1. 1. 1. 2.\n",
            " 2. 1. 1. 1. 1. 2. 1. 3. 1. 1. 1. 1. 1. 1. 2. 1. 1. 1. 2. 3. 2. 1. 1. 1.\n",
            " 1. 2. 1. 1. 1. 1. 3. 1. 1. 1. 1. 1. 2. 1. 1. 2. 1. 1. 1. 1. 3. 2. 1. 1.\n",
            " 3. 1. 3. 1. 1. 1. 1. 2. 2. 1. 1. 1. 2. 1. 1. 1. 1. 1. 1. 1. 1. 1. 2. 1.\n",
            " 1. 2. 1. 1. 1. 2. 1. 1. 1. 1. 1. 3. 3. 3. 1. 1. 1. 3. 1. 1. 1. 2. 2. 1.\n",
            " 1. 1. 1. 1. 1. 2. 1. 1. 2. 1. 1. 1. 1. 1. 1. 1. 1. 1. 3. 1. 3. 3. 1. 3.\n",
            " 1. 1. 1. 3. 1. 1. 1. 1. 1. 1. 1. 1. 1. 2. 1. 1. 2. 1. 1. 1. 1. 1. 1. 1.\n",
            " 1. 3. 1. 1. 1. 2. 3. 1. 3. 2. 1. 1. 1. 1. 1. 1. 1. 1. 2. 3. 2. 2. 1. 1.\n",
            " 2. 1. 1. 1. 1. 1. 2. 1. 1. 3. 1. 2. 1. 1.]\n"
          ]
        }
      ]
    },
    {
      "cell_type": "markdown",
      "source": [
        "## Feature Scaling"
      ],
      "metadata": {
        "id": "u9WHWjliTZ51"
      }
    },
    {
      "cell_type": "code",
      "source": [
        "from sklearn.preprocessing import StandardScaler\n",
        "sc = StandardScaler()\n",
        "X_train = sc.fit_transform(X_train)\n",
        "X_test = sc.transform(X_test)"
      ],
      "metadata": {
        "id": "CtnM-r4ATgdk"
      },
      "execution_count": null,
      "outputs": []
    },
    {
      "cell_type": "code",
      "source": [
        "print(\"Now X_train is :-\\n\",X_train)"
      ],
      "metadata": {
        "id": "GHNbc1JHTzwk",
        "colab": {
          "base_uri": "https://localhost:8080/"
        },
        "outputId": "2b4481e8-3105-4e28-ac2c-eb2c9b395808"
      },
      "execution_count": null,
      "outputs": [
        {
          "output_type": "stream",
          "name": "stdout",
          "text": [
            "Now X_train is :-\n",
            " [[-0.63437049  0.97001811 -0.19565677 ... -0.58503156  0.90519778\n",
            "  -0.54442589]\n",
            " [ 0.98214376 -0.83035762  0.28240115 ...  0.60852908 -0.6078638\n",
            "  -0.54442589]\n",
            " [-1.34159548  1.22721464  2.14910351 ... -0.86586935  0.21744252\n",
            "  -0.54442589]\n",
            " ...\n",
            " [-0.02817765 -0.83035762 -0.17289211 ... -0.44461266  0.07989146\n",
            "   1.11562683]\n",
            " [-0.33127407  0.71282157 -0.19565677 ... -0.09356541 -0.50470051\n",
            "  -0.54442589]\n",
            " [-0.23024193  0.97001811 -0.10459812 ...  0.32769128  0.21744252\n",
            "  -0.54442589]]\n"
          ]
        }
      ]
    },
    {
      "cell_type": "code",
      "source": [
        "print(\"Now X_test is :-\\n\",X_test)"
      ],
      "metadata": {
        "id": "t-pwfDgFT6PG",
        "colab": {
          "base_uri": "https://localhost:8080/"
        },
        "outputId": "5346906a-6c98-45c0-bd97-5c20d54f7002"
      },
      "execution_count": null,
      "outputs": [
        {
          "output_type": "stream",
          "name": "stdout",
          "text": [
            "Now X_test is :-\n",
            " [[-0.43230621 -0.31596456  0.10028385 ... -0.30419376 -0.50470051\n",
            "   1.11562683]\n",
            " [ 0.07285449  1.48441117 -0.17289211 ...  0.88936687  0.80203449\n",
            "  -0.54442589]\n",
            " [-0.33127407 -0.31596456 -0.17289211 ... -0.16377486 -0.12643512\n",
            "  -0.54442589]\n",
            " ...\n",
            " [ 0.37595092 -0.83035762 -0.10459812 ...  0.04685348 -0.6078638\n",
            "  -0.54442589]\n",
            " [-0.63437049  0.71282157 -0.19565677 ... -0.65524101  0.76764673\n",
            "  -0.54442589]\n",
            " [-0.83643478  0.19842851 -0.17289211 ... -1.3573355   0.38938133\n",
            "  -0.54442589]]\n"
          ]
        }
      ]
    },
    {
      "cell_type": "markdown",
      "source": [
        "## Training the KNeighborsClassifier model on the Training set\n"
      ],
      "metadata": {
        "id": "BriV4C9YUDZO"
      }
    },
    {
      "cell_type": "code",
      "source": [
        "from sklearn.neighbors import KNeighborsClassifier\n",
        "classifier = KNeighborsClassifier()\n",
        "classifier.fit(X_train, y_train)"
      ],
      "metadata": {
        "id": "2H0HELhGUWoY",
        "colab": {
          "base_uri": "https://localhost:8080/"
        },
        "outputId": "c4f755ef-c3be-4d4a-ed50-3a0571bfd6f8"
      },
      "execution_count": null,
      "outputs": [
        {
          "output_type": "execute_result",
          "data": {
            "text/plain": [
              "KNeighborsClassifier()"
            ]
          },
          "metadata": {},
          "execution_count": 65
        }
      ]
    },
    {
      "cell_type": "markdown",
      "source": [
        "## Predicting the Test set results"
      ],
      "metadata": {
        "id": "N_mb7UtpVMU7"
      }
    },
    {
      "cell_type": "code",
      "source": [
        "y_pred = classifier.predict(X_test)\n",
        "print(\"Predicted vs Actual on Test set\")\n",
        "print(np.concatenate((y_pred.reshape(len(y_pred),1), y_test.reshape(len(y_test),1)),1))"
      ],
      "metadata": {
        "id": "TJq1qvJLVTqG",
        "colab": {
          "base_uri": "https://localhost:8080/"
        },
        "outputId": "40ee735d-5c8b-4a0e-8235-286bd3418a5f"
      },
      "execution_count": null,
      "outputs": [
        {
          "output_type": "stream",
          "name": "stdout",
          "text": [
            "Predicted vs Actual on Test set\n",
            "[[1. 1.]\n",
            " [1. 1.]\n",
            " [1. 1.]\n",
            " ...\n",
            " [2. 2.]\n",
            " [1. 1.]\n",
            " [1. 1.]]\n"
          ]
        }
      ]
    },
    {
      "cell_type": "markdown",
      "source": [
        "## Making the Confusion Matrix"
      ],
      "metadata": {
        "id": "mT_0N0NdXVet"
      }
    },
    {
      "cell_type": "code",
      "source": [
        "from sklearn.metrics import confusion_matrix, accuracy_score\n",
        "cm = confusion_matrix(y_test, y_pred)\n",
        "print(\"Confusion Matrix is :-\\n\",cm)"
      ],
      "metadata": {
        "id": "ZhG3ZQz8Xdnn",
        "colab": {
          "base_uri": "https://localhost:8080/"
        },
        "outputId": "b9787406-5670-4f22-aa8e-ab86e24fc5f3"
      },
      "execution_count": null,
      "outputs": [
        {
          "output_type": "stream",
          "name": "stdout",
          "text": [
            "Confusion Matrix is :-\n",
            " [[475  14   3]\n",
            " [ 29  58   0]\n",
            " [  6   6  47]]\n"
          ]
        }
      ]
    },
    {
      "cell_type": "markdown",
      "source": [
        "## Graphical Confusion Matrix display"
      ],
      "metadata": {
        "id": "vdvIuKkGXq5i"
      }
    },
    {
      "cell_type": "code",
      "source": [
        "from sklearn.metrics import ConfusionMatrixDisplay\n",
        "ConfusionMatrixDisplay(cm).plot()\n",
        "plt.show()"
      ],
      "metadata": {
        "id": "7wOWojNTXzYu",
        "colab": {
          "base_uri": "https://localhost:8080/"
        },
        "outputId": "04fac604-325e-43b5-b7bf-06319398a89c"
      },
      "execution_count": null,
      "outputs": [
        {
          "output_type": "display_data",
          "data": {
            "text/plain": [
              "<Figure size 432x288 with 2 Axes>"
            ],
            "image/png": "[encoded data removed]"
          },
          "metadata": {
            "needs_background": "light"
          }
        }
      ]
    },
    {
      "cell_type": "markdown",
      "source": [
        "## Accuracy of the KNeighborsClassifier"
      ],
      "metadata": {
        "id": "R0Wu5-BSZU2a"
      }
    },
    {
      "cell_type": "code",
      "source": [
        "from sklearn.metrics import accuracy_score\n",
        "#print(\"Accuracy : \",accuracy_score(y_test,y_pred))\n",
        "print(\"Accuracy : \",accuracy_score(classifier.predict(X_test),y_test))"
      ],
      "metadata": {
        "id": "3QaYTNMhZZnR",
        "colab": {
          "base_uri": "https://localhost:8080/"
        },
        "outputId": "b10c9044-9621-4e81-c2a8-30e45409d1e9"
      },
      "execution_count": null,
      "outputs": [
        {
          "output_type": "stream",
          "name": "stdout",
          "text": [
            "Accuracy :  0.9090909090909091\n"
          ]
        }
      ]
    }
  ]
}